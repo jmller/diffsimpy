{
 "cells": [
  {
   "cell_type": "markdown",
   "metadata": {},
   "source": [
    "# Example Optimization on 8x8 Split-Ring Structure"
   ]
  },
  {
   "cell_type": "code",
   "execution_count": 1,
   "metadata": {},
   "outputs": [],
   "source": [
    "import os, sys\n",
    "import torch\n",
    "import mlflow\n",
    "import numpy as np\n",
    "import matplotlib.pyplot as plt\n",
    "\n",
    "from DiffSimPyPipeline import CalculationPipeline as pipeline\n",
    "import NetworkFunctions\n",
    "from OptimizationFunctions import create_folders\n",
    "\n",
    "from cosimpy import S_Matrix, EM_Field"
   ]
  },
  {
   "cell_type": "markdown",
   "metadata": {},
   "source": [
    "## General Initialization"
   ]
  },
  {
   "cell_type": "code",
   "execution_count": 2,
   "metadata": {},
   "outputs": [],
   "source": [
    "path = \"./data/8x8\"\n",
    "freq = 123.5 #MHz\n",
    "numPorts = 65\n",
    "\n",
    "s_matrix = S_Matrix.importTouchstone(os.path.join(path, f\"s_param.s{numPorts}p\"))"
   ]
  },
  {
   "cell_type": "code",
   "execution_count": 3,
   "metadata": {},
   "outputs": [
    {
     "name": "stdout",
     "output_type": "stream",
     "text": [
      "Importing 123.5 MHz fields\n",
      "\n",
      "\tImporting port65 fields\n",
      "\n"
     ]
    }
   ],
   "source": [
    "s_matrix = S_Matrix.importTouchstone(os.path.join(path, f\"s_param.s{numPorts}p\"))\n",
    "em_field = EM_Field.importFields_cst(os.path.join(path, \"Field\"), \n",
    "                                        freqs=[freq], \n",
    "                                        nPorts=numPorts, \n",
    "                                        Pinc_ref=1, \n",
    "                                        b_multCoeff=1,\n",
    "                                        pkORrms='rms',\n",
    "                                        fileType = 'ascii', \n",
    "                                        col_ascii_order = 1)\n",
    "\n",
    "s_matrix_unconnected = torch.from_numpy(s_matrix.S).to(torch.cdouble)\n",
    "b_field_import = torch.tensor(em_field.b_field, dtype=torch.cdouble)"
   ]
  },
  {
   "cell_type": "code",
   "execution_count": 4,
   "metadata": {},
   "outputs": [],
   "source": [
    "# For Optimization: Only interested in field in centre of each cell at 123.5MHz\n",
    "b_field_import_for_optimization = b_field_import#torch.reshape(b_field_import[:,:,:,:], (1, 65, 3, 449, 449))\n",
    "freq_id = np.where(s_matrix.frequencies == freq*10**6)[0][0]"
   ]
  },
  {
   "cell_type": "code",
   "execution_count": 6,
   "metadata": {},
   "outputs": [],
   "source": [
    "num_epochs = 2000\n",
    "learning_rate = 1e-13\n",
    "experiment_name = \"GD_8x8_DEMO\""
   ]
  },
  {
   "cell_type": "markdown",
   "metadata": {},
   "source": [
    "## Initialization of DiffSimPy Pipeline"
   ]
  },
  {
   "cell_type": "code",
   "execution_count": 7,
   "metadata": {},
   "outputs": [],
   "source": [
    "n0=numPorts\n",
    "n1=1\n",
    "nf=1\n",
    "batch_size=1\n",
    "\n",
    "S_C_const = torch.zeros((batch_size, nf, n0+n1, n0+n1), dtype=torch.cdouble)\n",
    "S_C_const[:, :, -1, 0] = 1\n",
    "S_C_const[:, :, 0, -1] = 1\n",
    "# Transmission from excitation port to all other ports"
   ]
  },
  {
   "cell_type": "code",
   "execution_count": 8,
   "metadata": {},
   "outputs": [],
   "source": [
    "id_x = [x+n1 for x in range(numPorts-n1)]\n",
    "indices = torch.tensor([id_x, id_x]) #define indices for S_C"
   ]
  },
  {
   "cell_type": "code",
   "execution_count": 9,
   "metadata": {},
   "outputs": [],
   "source": [
    "calc_pipe = pipeline(S_0 = s_matrix_unconnected[freq_id], # as we are only interested in 123.5MHz, we can neglect other frequencies\n",
    "                     S_C_const = S_C_const,\n",
    "                     b_field = b_field_import_for_optimization,\n",
    "                     e_field = None)"
   ]
  },
  {
   "cell_type": "code",
   "execution_count": 10,
   "metadata": {},
   "outputs": [],
   "source": [
    "omega = 2*torch.pi*freq*10**6"
   ]
  },
  {
   "cell_type": "code",
   "execution_count": 11,
   "metadata": {},
   "outputs": [],
   "source": [
    "slice_of_interest_obj = (slice(None), 0, 0, -1, slice(None))"
   ]
  },
  {
   "cell_type": "markdown",
   "metadata": {},
   "source": [
    "# Desired B Field generation"
   ]
  },
  {
   "cell_type": "code",
   "execution_count": 12,
   "metadata": {},
   "outputs": [],
   "source": [
    "def custom_preprocessing(Rvalue, Cvalue, omega):\n",
    "    z = NetworkFunctions.calc_RC_series_impedance(Rvalue, Cvalue, omega)\n",
    "    s = NetworkFunctions.z_to_s(z, 50)\n",
    "    s = s.unsqueeze(1) #add dimension for nf\n",
    "    return s"
   ]
  },
  {
   "cell_type": "code",
   "execution_count": 13,
   "metadata": {},
   "outputs": [],
   "source": [
    "def inverse_minmax_scaler(max_value: float, \n",
    "                          min_value: float,\n",
    "                          tensor: torch.Tensor) -> torch.Tensor:\n",
    "    return tensor*(max_value-min_value) + min_value"
   ]
  },
  {
   "cell_type": "code",
   "execution_count": 14,
   "metadata": {},
   "outputs": [],
   "source": [
    "Y_0 = S_Matrix.getYMatrix(s_matrix)\n",
    "y = torch.from_numpy(Y_0[freq_id, 1:, 1:]) #drops excitation coil\n",
    "c_init = NetworkFunctions.extract_initial_params(omega, y)\n",
    "#NetworkFunctions.export_params_to_txt(c_init*1e12, \"C\", f\"./output/{experiment_name}resonance_config_8x8.txt\")"
   ]
  },
  {
   "cell_type": "code",
   "execution_count": 15,
   "metadata": {},
   "outputs": [],
   "source": [
    "desired_h_boundary_c = torch.vstack((torch.ones_like(c_init)*1e-12, torch.ones_like(c_init)*60e-12, c_init))"
   ]
  },
  {
   "cell_type": "code",
   "execution_count": 16,
   "metadata": {},
   "outputs": [],
   "source": [
    "boundary = torch.abs(calc_pipe(custom_preprocessing(torch.ones_like(desired_h_boundary_c), desired_h_boundary_c, omega), indices)[0][slice_of_interest_obj])"
   ]
  },
  {
   "cell_type": "code",
   "execution_count": null,
   "metadata": {},
   "outputs": [
    {
     "name": "stdout",
     "output_type": "stream",
     "text": [
      "Max H: 0.026988247749958758, Min H: 0.008662274104031548\n"
     ]
    }
   ],
   "source": [
    "max_h = torch.max(boundary)\n",
    "min_h = torch.min(boundary)\n",
    "\n",
    "print(f\"Max H: {max_h}, Min H: {min_h}\")"
   ]
  },
  {
   "cell_type": "code",
   "execution_count": 18,
   "metadata": {},
   "outputs": [],
   "source": [
    "from letters_to_array import generate_letter_matrix\n",
    "import string\n",
    "\n",
    "letters = list(string.ascii_uppercase) + list(string.digits)\n",
    "letter_list = []\n",
    "for letter in letters:\n",
    "    letter_list.append(generate_letter_matrix(letter).flatten())\n",
    "\n",
    "letters_and_digits = torch.tensor(np.array(letter_list))"
   ]
  },
  {
   "cell_type": "code",
   "execution_count": 19,
   "metadata": {},
   "outputs": [],
   "source": [
    "from scipy.linalg import hadamard\n",
    "n_col_points = 8\n",
    "hadamard_pattern = torch.tensor((hadamard(n_col_points) + 1) / 2).flatten()\n",
    "gradient_array = np.linspace(0, 1, n_col_points)\n",
    "homogenization_pattern = torch.ones((n_col_points, n_col_points*n_col_points))*gradient_array[:, np.newaxis]"
   ]
  },
  {
   "cell_type": "code",
   "execution_count": 20,
   "metadata": {},
   "outputs": [],
   "source": [
    "desired_h = inverse_minmax_scaler(max_value=max_h, min_value=min_h, tensor=torch.vstack((letters_and_digits, hadamard_pattern, homogenization_pattern)))"
   ]
  },
  {
   "cell_type": "markdown",
   "metadata": {},
   "source": [
    "# Optimization"
   ]
  },
  {
   "cell_type": "code",
   "execution_count": 21,
   "metadata": {},
   "outputs": [],
   "source": [
    "eval_loss_obj = torch.nn.MSELoss()\n",
    "eval_loss_obj_no_reduction = torch.nn.MSELoss(reduction='none')"
   ]
  },
  {
   "cell_type": "code",
   "execution_count": 22,
   "metadata": {},
   "outputs": [
    {
     "data": {
      "text/plain": [
       "<Experiment: artifact_location='/workspace/diffsimpy/example/mlruns/118678836729410610', creation_time=1733834924505, experiment_id='118678836729410610', last_update_time=1733834924505, lifecycle_stage='active', name='GD_8x8_DEMO', tags={}>"
      ]
     },
     "execution_count": 22,
     "metadata": {},
     "output_type": "execute_result"
    }
   ],
   "source": [
    "mlflow.set_tracking_uri('./mlruns')\n",
    "mlflow.set_experiment(experiment_name)"
   ]
  },
  {
   "cell_type": "code",
   "execution_count": 23,
   "metadata": {},
   "outputs": [
    {
     "name": "stdout",
     "output_type": "stream",
     "text": [
      "Directory \"./output/GD_8x8_DEMO\" already exists\n",
      "Epoch 0, Loss: 0.00012421001013366737\n",
      "Epoch 100, Loss: 3.2118101319340646e-06\n",
      "Epoch 200, Loss: 1.5252472891935245e-06\n",
      "Epoch 300, Loss: 1.0019534242262094e-06\n",
      "Epoch 400, Loss: 7.510412122229877e-07\n",
      "Epoch 500, Loss: 6.061970322060518e-07\n",
      "Epoch 600, Loss: 5.11988813978509e-07\n",
      "Epoch 700, Loss: 4.465557636305093e-07\n",
      "Epoch 800, Loss: 3.9787993435868313e-07\n",
      "Epoch 900, Loss: 3.6122080109055454e-07\n",
      "Epoch 1000, Loss: 3.326361547614374e-07\n",
      "Epoch 1100, Loss: 3.103066538523986e-07\n",
      "Epoch 1200, Loss: 2.9218748809751945e-07\n",
      "best_eval_loss: 2.8719397809998805e-07 @ epoch 1236\n",
      "Epoch 1300, Loss: 2.772586852332171e-07\n",
      "best_eval_loss: 2.6916363667921657e-07 @ epoch 1367\n",
      "best_eval_loss: 2.671918385587429e-07 @ epoch 1385\n",
      "Epoch 1400, Loss: 2.6509340125289746e-07\n",
      "best_eval_loss: 2.6018847905475945e-07 @ epoch 1445\n",
      "best_eval_loss: 2.556862899625969e-07 @ epoch 1489\n",
      "Epoch 1500, Loss: 2.5434758570299036e-07\n",
      "best_eval_loss: 2.4928453551138995e-07 @ epoch 1557\n",
      "best_eval_loss: 2.477603721366221e-07 @ epoch 1574\n",
      "Epoch 1600, Loss: 2.4519716168557033e-07\n",
      "best_eval_loss: 2.4287578446852915e-07 @ epoch 1638\n",
      "best_eval_loss: 2.410867543886603e-07 @ epoch 1657\n",
      "Epoch 1700, Loss: 2.374716494218798e-07\n",
      "best_eval_loss: 2.369012208077715e-07 @ epoch 1713\n",
      "best_eval_loss: 2.363928391407226e-07 @ epoch 1719\n",
      "best_eval_loss: 2.3609027282377525e-07 @ epoch 1725\n",
      "best_eval_loss: 2.356763376912358e-07 @ epoch 1734\n",
      "best_eval_loss: 2.3498502590029673e-07 @ epoch 1747\n",
      "best_eval_loss: 2.3348228261040753e-07 @ epoch 1763\n",
      "best_eval_loss: 2.330958119983059e-07 @ epoch 1770\n",
      "Epoch 1800, Loss: 2.3081469693582924e-07\n",
      "best_eval_loss: 2.3040078397713637e-07 @ epoch 1809\n",
      "best_eval_loss: 2.3019767271882e-07 @ epoch 1814\n",
      "best_eval_loss: 2.2997373888551754e-07 @ epoch 1821\n",
      "best_eval_loss: 2.2910708543324555e-07 @ epoch 1833\n",
      "best_eval_loss: 2.2894199766958653e-07 @ epoch 1837\n",
      "best_eval_loss: 2.267478231087504e-07 @ epoch 1880\n",
      "Epoch 1900, Loss: 2.2505615566595237e-07\n",
      "best_eval_loss: 2.2405077747328166e-07 @ epoch 1921\n",
      "best_eval_loss: 2.2323555611417547e-07 @ epoch 1939\n",
      "best_eval_loss: 2.2282966699199096e-07 @ epoch 1950\n",
      "best_eval_loss: 2.2241047730389785e-07 @ epoch 1958\n",
      "best_eval_loss: 2.2212253016490694e-07 @ epoch 1965\n",
      "best_eval_loss: 2.2166321420317006e-07 @ epoch 1969\n",
      "best_eval_loss: 2.2042301349651738e-07 @ epoch 1993\n",
      "best_eval_loss: 2.203673996143521e-07 @ epoch 1997\n"
     ]
    }
   ],
   "source": [
    "create_folders(f\"./output/{experiment_name}\")\n",
    "# parametric_sweep initial params\n",
    "\n",
    "initial_params = c_init.unsqueeze(0).repeat(len(desired_h), 1).detach().requires_grad_(True)\n",
    "optimizer = torch.optim.Adam([initial_params], lr=learning_rate)\n",
    "mlflow.start_run()\n",
    "\n",
    "# Optimization procedure\n",
    "prev_best_eval_loss = 1\n",
    "best_params = initial_params\n",
    "best_params_epoch = 0\n",
    "for epoch in range(num_epochs):\n",
    "    optimizer.zero_grad()  # Clear gradients\n",
    "\n",
    "    s_opt = custom_preprocessing(torch.ones_like(initial_params), initial_params, omega)\n",
    "    output = calc_pipe(s_opt, indices)  # Forward pass\n",
    "    opt_field = torch.abs(output[0][slice_of_interest_obj])\n",
    "    loss = eval_loss_obj(opt_field, desired_h)  # Compute loss\n",
    "    loss.backward()  # Backward pass to compute gradients\n",
    "    optimizer.step()  # Update parameters\n",
    "    \n",
    "    eval_loss = loss.item()\n",
    "    if eval_loss<=prev_best_eval_loss:\n",
    "        if epoch - best_params_epoch > 3:\n",
    "            print(f\"best_eval_loss: {eval_loss} @ epoch {epoch}\")\n",
    "        best_params = initial_params\n",
    "        best_params_epoch = epoch\n",
    "        best_params_output = opt_field\n",
    "        prev_best_eval_loss = eval_loss\n",
    "        \n",
    "    if epoch == 0:\n",
    "        opt_field_init = opt_field    \n",
    "    if epoch % 100 == 0:\n",
    "        print(f'Epoch {epoch}, Loss: {loss.item()}')\n",
    "    mlflow.log_metric(\"MSE\", loss.item(), step=epoch)\n",
    "\n",
    "mlflow.log_metric(\"best_params_epoch\", best_params_epoch)\n",
    "mlflow.log_metric(\"best_eval_loss\", prev_best_eval_loss)\n",
    "torch.save(best_params, f\"./output/{experiment_name}/best_params.pt\")\n",
    "torch.save(best_params_output, f\"./output/{experiment_name}/best_params_output.pt\")\n",
    "torch.save(desired_h, f\"./output/{experiment_name}/desired_field.pt\")\n",
    "#mlflow.log_artifact(\"/workspace\")\n",
    "#mlflow.log_artifact(\"/packages\")\n",
    "mlflow.end_run()"
   ]
  },
  {
   "cell_type": "code",
   "execution_count": 24,
   "metadata": {},
   "outputs": [
    {
     "name": "stdout",
     "output_type": "stream",
     "text": [
      "final error 2.2000120881238565e-07, best error 2.2000120881238565e-07, best epoch 1999\n"
     ]
    }
   ],
   "source": [
    "print(f\"final error {eval_loss}, best error {prev_best_eval_loss}, best epoch {best_params_epoch}\")"
   ]
  },
  {
   "cell_type": "code",
   "execution_count": 25,
   "metadata": {},
   "outputs": [],
   "source": [
    "def extract_indices_of_quartiles(metric_list: np.ndarray) -> dict:\n",
    "    return {\n",
    "        \"Min\": np.argsort(metric_list)[0],\n",
    "        \"Q1\": np.argsort(metric_list)[len(metric_list)//4],\n",
    "        \"Q2\": np.argsort(metric_list)[len(metric_list)//2],\n",
    "        \"Q3\": np.argsort(metric_list)[int(len(metric_list)*(3/4))],\n",
    "        \"Max\": np.argsort(metric_list)[-1]\n",
    "     }\n"
   ]
  },
  {
   "cell_type": "code",
   "execution_count": 26,
   "metadata": {},
   "outputs": [],
   "source": [
    "eval_mse = torch.nn.MSELoss(reduction='none')\n",
    "mse_list = torch.mean(eval_mse(best_params_output, desired_h), axis=1)\n",
    "indices_of_quartiles = extract_indices_of_quartiles(mse_list.tolist())"
   ]
  },
  {
   "cell_type": "code",
   "execution_count": 27,
   "metadata": {},
   "outputs": [],
   "source": [
    "plt.rcParams.update({\n",
    "    \"figure.figsize\": (3.5, 3.5),\n",
    "    \"font.size\": 8 \n",
    "})"
   ]
  },
  {
   "cell_type": "code",
   "execution_count": 28,
   "metadata": {},
   "outputs": [],
   "source": [
    "from matplotlib.gridspec import GridSpec\n",
    "def plt_distribution(realized, desired, vmin, vmax, mse_list, indices_of_quartiles, experiment_name):\n",
    "    fig = plt.figure(figsize=(3.5, 7.5))\n",
    "    gs = GridSpec(6, 3, width_ratios=[1, 1, 0.1], figure=fig)\n",
    "\n",
    "    #fig.suptitle(f\"Distribution Plots\")\n",
    "    plt.align_labels = True\n",
    "\n",
    "    for count, key in enumerate(indices_of_quartiles.keys()):\n",
    "        for col_ind in range(0, 2):\n",
    "            field = [realized, desired]\n",
    "            ax = fig.add_subplot(gs[count, col_ind])\n",
    "            #ax = fig.add_subplot(gs[count, col_ind])\n",
    "            if col_ind == 0 and count == 0:\n",
    "                ax.set_title(r\"$|\\hat{H}_z|  \\text{ } / \\text{ }  |H_z|_{ref}$\")\n",
    "            elif col_ind == 1 and count == 0:\n",
    "                ax.set_title(r\"$|H_z|  \\text{ } / \\text{ }  |H_z|_{ref}$\")\n",
    "            ax.grid(which='minor', color='w', linestyle='-', linewidth=2)\n",
    "            img = ax.imshow(field[col_ind][indices_of_quartiles[key]].reshape((8,8)), vmin=vmin, vmax=vmax, cmap='gray') \n",
    "            if col_ind == 0:\n",
    "                ax.set_ylabel(key)\n",
    "            ax.set_xticks(np.arange(0, 8, 2))\n",
    "            ax.set_yticks(np.arange(0, 8, 2))\n",
    "\n",
    "    cbar_ax = fig.add_subplot(gs[:-1, 2])\n",
    "    fig.colorbar(img, cax=cbar_ax)\n",
    "    hist_ax = fig.add_subplot(gs[-1, :])\n",
    "\n",
    "    hist_ax.hist(mse_list.detach().numpy(), bins=50, color='black')\n",
    "    hist_ax.set_ylabel(\"Count\")\n",
    "    hist_ax.set_title(f\"MSE Distribution\")\n",
    "\n",
    "    #axs[row_ind, col_ind].legend(handles, labels, loc='best')\n",
    "\n",
    "    fig.align_ylabels()\n",
    "    plt.tight_layout()\n",
    "    plt.savefig(f\"./output/{experiment_name}/mse_distribution_plot.pdf\")\n",
    "    plt.savefig(f\"./output/{experiment_name}/mse_distribution_plot.png\")"
   ]
  },
  {
   "cell_type": "code",
   "execution_count": 29,
   "metadata": {},
   "outputs": [
    {
     "data": {
      "image/png": "[encoded data removed]",
      "text/plain": [
       "<Figure size 350x750 with 12 Axes>"
      ]
     },
     "metadata": {},
     "output_type": "display_data"
    }
   ],
   "source": [
    "ref_one_cell = 0.0427 #A/m from cell #28\n",
    "plt_distribution(best_params_output.detach().numpy()/ref_one_cell, desired_h.detach().numpy()/ref_one_cell, min_h/ref_one_cell, max_h/ref_one_cell, mse_list, indices_of_quartiles, experiment_name)"
   ]
  }
 ],
 "metadata": {
  "kernelspec": {
   "display_name": "base",
   "language": "python",
   "name": "python3"
  },
  "language_info": {
   "codemirror_mode": {
    "name": "ipython",
    "version": 3
   },
   "file_extension": ".py",
   "mimetype": "text/x-python",
   "name": "python",
   "nbconvert_exporter": "python",
   "pygments_lexer": "ipython3",
   "version": "3.10.14"
  }
 },
 "nbformat": 4,
 "nbformat_minor": 2
}
